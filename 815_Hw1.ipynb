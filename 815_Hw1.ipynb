{
 "cells": [
  {
   "cell_type": "code",
   "execution_count": 3,
   "metadata": {},
   "outputs": [
    {
     "name": "stdout",
     "output_type": "stream",
     "text": [
      "67.34333333333333\n",
      "20.738011530091843\n"
     ]
    }
   ],
   "source": [
    "\"WRITTEN IN A PYTHON3 JUPYTER NOTEBOOK\"\n",
    "\"HOMEWORK 1 PHSX 815 SPRING 2018\"\n",
    "\"PROBLEM a\"\n",
    "#calcuate the mean\n",
    "name = ['Ahmed','Arora','Bennetts','Bonebrake','Bunyard','Chappell','Chaudhry',\n",
    "        'Cloud','Everidge','Fletcher','Griffith','Gronniger','Hamil','Huhmann',\n",
    "        'Hutchison','Logan','Lutz','Maddaluna','Mayes','Mears','Patton','Phalen',\n",
    "        'Phan','Ramirez','Shamet','Sinclair','Singh','Smith','Stevenson','Tibbets']\n",
    "score = [98.5,62.8,74.8,60.1,55.6,82.6,40.8,97.7,43.6,86.7,38.6,94.8,83.5,88.9,91.9,\n",
    "         37.2,40.5,39.6,52,46.8,53.4,83.9,95.2,59.8,85.5,44.9,61.3,61,64.8,93.5]\n",
    "number_of_scores   = len(score) #number of students that took the exam \n",
    "sum_of_scores      = sum(score) #total sum of all the scores, used to calcuate average \n",
    "                                #through sum of all scores/number of scores\n",
    "mean_of_score      = sum_of_scores/number_of_scores #mean calculation\n",
    "print (mean_of_score)\n",
    "\n",
    "\n",
    "#calculate the standard deviation \n",
    "diff = [x - mean_of_score for x in score] #subract the mean from each score \n",
    "sq_diff = [d ** 2 for d in diff] #square the differences \n",
    "sums = sum(sq_diff)\n",
    "variance = sums / number_of_scores #divide the sum of the diffences by number of scores for the variance \n",
    "stddev = (variance)**0.5 #standard deviation is the square root of the variance\n",
    "print(stddev)\n",
    "\n",
    "\n",
    "\n"
   ]
  },
  {
   "cell_type": "code",
   "execution_count": 4,
   "metadata": {},
   "outputs": [
    {
     "data": {
      "text/plain": [
       "([98.5,\n",
       "  97.7,\n",
       "  95.2,\n",
       "  94.8,\n",
       "  93.5,\n",
       "  91.9,\n",
       "  88.9,\n",
       "  86.7,\n",
       "  85.5,\n",
       "  83.9,\n",
       "  83.5,\n",
       "  82.6,\n",
       "  74.8,\n",
       "  64.8,\n",
       "  62.8,\n",
       "  61.3,\n",
       "  61,\n",
       "  60.1,\n",
       "  59.8,\n",
       "  55.6,\n",
       "  53.4,\n",
       "  52,\n",
       "  46.8,\n",
       "  44.9,\n",
       "  43.6,\n",
       "  40.8,\n",
       "  40.5,\n",
       "  39.6,\n",
       "  38.6,\n",
       "  37.2],\n",
       " ['Ahmed',\n",
       "  'Cloud',\n",
       "  'Phan',\n",
       "  'Gronniger',\n",
       "  'Tibbets',\n",
       "  'Hutchison',\n",
       "  'Huhmann',\n",
       "  'Fletcher',\n",
       "  'Shamet',\n",
       "  'Phalen',\n",
       "  'Hamil',\n",
       "  'Chappell',\n",
       "  'Bennetts',\n",
       "  'Stevenson',\n",
       "  'Arora',\n",
       "  'Singh',\n",
       "  'Smith',\n",
       "  'Bonebrake',\n",
       "  'Ramirez',\n",
       "  'Bunyard',\n",
       "  'Patton',\n",
       "  'Mayes',\n",
       "  'Mears',\n",
       "  'Sinclair',\n",
       "  'Everidge',\n",
       "  'Chaudhry',\n",
       "  'Lutz',\n",
       "  'Maddaluna',\n",
       "  'Griffith',\n",
       "  'Logan'])"
      ]
     },
     "execution_count": 4,
     "metadata": {},
     "output_type": "execute_result"
    }
   ],
   "source": [
    "\"PROBLEM b\"\n",
    "#list the data in descending order \n",
    "\n",
    "\n",
    "score, name = (list(t) for t in zip(*sorted(zip(score, name),reverse=True))) \n",
    "#attach the arrays to each other, and sort by score\n",
    "score, name"
   ]
  },
  {
   "cell_type": "code",
   "execution_count": 5,
   "metadata": {},
   "outputs": [
    {
     "name": "stderr",
     "output_type": "stream",
     "text": [
      "/home/jrcooper/anaconda3/envs/grizli-dev/lib/python3.6/site-packages/scipy/stats/stats.py:1713: FutureWarning: Using a non-tuple sequence for multidimensional indexing is deprecated; use `arr[tuple(seq)]` instead of `arr[seq]`. In the future this will be interpreted as an array index, `arr[np.array(seq)]`, which will result either in an error or a different result.\n",
      "  return np.add.reduce(sorted[indexer] * weights, axis=axis) / sumval\n"
     ]
    },
    {
     "data": {
      "text/plain": [
       "<matplotlib.axes._subplots.AxesSubplot at 0x7fbc46be3e10>"
      ]
     },
     "execution_count": 5,
     "metadata": {},
     "output_type": "execute_result"
    },
    {
     "data": {
      "image/png": "[encoded data removed]",
      "text/plain": [
       "<Figure size 432x288 with 1 Axes>"
      ]
     },
     "metadata": {
      "needs_background": "light"
     },
     "output_type": "display_data"
    }
   ],
   "source": [
    "\"PROBLEM c\"\n",
    "\n",
    "import numpy as np\n",
    "import pandas as pd\n",
    "import seaborn as sns\n",
    "import matplotlib.pyplot as plt\n",
    "from scipy import stats\n",
    "\n",
    "sns.distplot(score,bins=3,axlabel='Exam Score')"
   ]
  },
  {
   "cell_type": "code",
   "execution_count": null,
   "metadata": {},
   "outputs": [],
   "source": []
  }
 ],
 "metadata": {
  "kernelspec": {
   "display_name": "Python 3",
   "language": "python",
   "name": "python3"
  },
  "language_info": {
   "codemirror_mode": {
    "name": "ipython",
    "version": 3
   },
   "file_extension": ".py",
   "mimetype": "text/x-python",
   "name": "python",
   "nbconvert_exporter": "python",
   "pygments_lexer": "ipython3",
   "version": "3.6.7"
  }
 },
 "nbformat": 4,
 "nbformat_minor": 2
}
