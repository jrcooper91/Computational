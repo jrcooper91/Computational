{
 "cells": [
  {
   "cell_type": "markdown",
   "metadata": {},
   "source": [
    "## Hw 2 for PHSX 815"
   ]
  },
  {
   "cell_type": "code",
   "execution_count": 1,
   "metadata": {},
   "outputs": [],
   "source": [
    "#Question 1\n",
    "%matplotlib inline"
   ]
  },
  {
   "cell_type": "code",
   "execution_count": 75,
   "metadata": {},
   "outputs": [
    {
     "data": {
      "image/png": "[encoded data removed]",
      "text/plain": [
       "<Figure size 432x288 with 1 Axes>"
      ]
     },
     "metadata": {
      "needs_background": "light"
     },
     "output_type": "display_data"
    }
   ],
   "source": [
    "\"QUESTION 1\"\n",
    "import numpy as np                    #needed to make vectors\n",
    "import matplotlib.pyplot as plt\n",
    "\n",
    "def analytical_sol():                 #define analytical function \n",
    "    a = 0.5\n",
    "    y = np.zeros([501])               #empty vectors\n",
    "    v = np.zeros([501])\n",
    "    x = np.zeros([501])\n",
    "    dt = 0.1                          #step size h\n",
    "    x[0] = 0                          #initial condition\n",
    "    y[0] = 1                          #initial condition\n",
    "    v[0] = 0                          #initial condition of dx/dt = 0\n",
    "\n",
    "    for i in range(0,500):\n",
    "        x[i+1] = x[i] + dt\n",
    "        y[i+1] = np.cos(a*i*dt)       #solution\n",
    "        v[i+1] = -a*np.sin(a*i*dt)    #solution dx/dt = v\n",
    "    plt.plot(x, y, color = 'red')\n",
    "    return [x, y]\n",
    "analytical_sol()\n",
    "plt.show()"
   ]
  },
  {
   "cell_type": "code",
   "execution_count": 78,
   "metadata": {},
   "outputs": [],
   "source": [
    "def euler(f, x0, xf, n, y0):\n",
    "    \n",
    "    dt = 0.1\n",
    "    f  = np.cos(0.5*dt)\n",
    "    x0 = 0                    #initial condition\n",
    "    xf = 1                    #initial condition\n",
    "    n  = 10000                #interval values: 1, 10, 100, 1000, 10000\n",
    "    y0 = 1\n",
    "    \n",
    "    Eulerx = np.zeros(n)\n",
    "    Eulery = np.zeros(n)\n",
    "    \n",
    "\n",
    "    h = (xf - x0) / n\n",
    "    x = x0\n",
    "    y = y0\n",
    "\n",
    "    Eulerx[0] = x\n",
    "    Eulery[0] = y\n",
    "\n",
    "    #fxy = f(x, y)\n",
    "\n",
    "    for i in range(0, n):\n",
    "        x = x0 + (i + 1) * h\n",
    "        y += h * f#xy\n",
    "\n",
    "        #fxy = f(x, y)\n",
    "        Eulerx[i] = x\n",
    "        Eulery[i] = y\n",
    "\n",
    "    #return [Eulerx, Eulery]\n",
    "    plt.scatter(Eulerx,Eulery)\n"
   ]
  },
  {
   "cell_type": "code",
   "execution_count": 38,
   "metadata": {},
   "outputs": [
    {
     "data": {
      "text/plain": [
       "[array([1.]), array([1.99875026])]"
      ]
     },
     "execution_count": 38,
     "metadata": {},
     "output_type": "execute_result"
    }
   ],
   "source": [
    "euler(f, x0, xf, n, y0) #n=1"
   ]
  },
  {
   "cell_type": "code",
   "execution_count": 42,
   "metadata": {},
   "outputs": [
    {
     "data": {
      "text/plain": [
       "[array([0.1, 0.2, 0.3, 0.4, 0.5, 0.6, 0.7, 0.8, 0.9, 1. ]),\n",
       " array([1.09987503, 1.19975005, 1.29962508, 1.3995001 , 1.49937513,\n",
       "        1.59925016, 1.69912518, 1.79900021, 1.89887523, 1.99875026])]"
      ]
     },
     "execution_count": 42,
     "metadata": {},
     "output_type": "execute_result"
    }
   ],
   "source": [
    "euler(f, x0, xf, n, y0) #n=10"
   ]
  },
  {
   "cell_type": "code",
   "execution_count": 44,
   "metadata": {},
   "outputs": [
    {
     "data": {
      "text/plain": [
       "[array([0.01, 0.02, 0.03, 0.04, 0.05, 0.06, 0.07, 0.08, 0.09, 0.1 , 0.11,\n",
       "        0.12, 0.13, 0.14, 0.15, 0.16, 0.17, 0.18, 0.19, 0.2 , 0.21, 0.22,\n",
       "        0.23, 0.24, 0.25, 0.26, 0.27, 0.28, 0.29, 0.3 , 0.31, 0.32, 0.33,\n",
       "        0.34, 0.35, 0.36, 0.37, 0.38, 0.39, 0.4 , 0.41, 0.42, 0.43, 0.44,\n",
       "        0.45, 0.46, 0.47, 0.48, 0.49, 0.5 , 0.51, 0.52, 0.53, 0.54, 0.55,\n",
       "        0.56, 0.57, 0.58, 0.59, 0.6 , 0.61, 0.62, 0.63, 0.64, 0.65, 0.66,\n",
       "        0.67, 0.68, 0.69, 0.7 , 0.71, 0.72, 0.73, 0.74, 0.75, 0.76, 0.77,\n",
       "        0.78, 0.79, 0.8 , 0.81, 0.82, 0.83, 0.84, 0.85, 0.86, 0.87, 0.88,\n",
       "        0.89, 0.9 , 0.91, 0.92, 0.93, 0.94, 0.95, 0.96, 0.97, 0.98, 0.99,\n",
       "        1.  ]),\n",
       " array([1.0099875 , 1.01997501, 1.02996251, 1.03995001, 1.04993751,\n",
       "        1.05992502, 1.06991252, 1.07990002, 1.08988752, 1.09987503,\n",
       "        1.10986253, 1.11985003, 1.12983753, 1.13982504, 1.14981254,\n",
       "        1.15980004, 1.16978754, 1.17977505, 1.18976255, 1.19975005,\n",
       "        1.20973755, 1.21972506, 1.22971256, 1.23970006, 1.24968757,\n",
       "        1.25967507, 1.26966257, 1.27965007, 1.28963758, 1.29962508,\n",
       "        1.30961258, 1.31960008, 1.32958759, 1.33957509, 1.34956259,\n",
       "        1.35955009, 1.3695376 , 1.3795251 , 1.3895126 , 1.3995001 ,\n",
       "        1.40948761, 1.41947511, 1.42946261, 1.43945011, 1.44943762,\n",
       "        1.45942512, 1.46941262, 1.47940012, 1.48938763, 1.49937513,\n",
       "        1.50936263, 1.51935014, 1.52933764, 1.53932514, 1.54931264,\n",
       "        1.55930015, 1.56928765, 1.57927515, 1.58926265, 1.59925016,\n",
       "        1.60923766, 1.61922516, 1.62921266, 1.63920017, 1.64918767,\n",
       "        1.65917517, 1.66916267, 1.67915018, 1.68913768, 1.69912518,\n",
       "        1.70911268, 1.71910019, 1.72908769, 1.73907519, 1.7490627 ,\n",
       "        1.7590502 , 1.7690377 , 1.7790252 , 1.78901271, 1.79900021,\n",
       "        1.80898771, 1.81897521, 1.82896272, 1.83895022, 1.84893772,\n",
       "        1.85892522, 1.86891273, 1.87890023, 1.88888773, 1.89887523,\n",
       "        1.90886274, 1.91885024, 1.92883774, 1.93882524, 1.94881275,\n",
       "        1.95880025, 1.96878775, 1.97877526, 1.98876276, 1.99875026])]"
      ]
     },
     "execution_count": 44,
     "metadata": {},
     "output_type": "execute_result"
    }
   ],
   "source": [
    "euler(f, x0, xf, n, y0) #n = 100"
   ]
  },
  {
   "cell_type": "code",
   "execution_count": 55,
   "metadata": {},
   "outputs": [
    {
     "data": {
      "text/plain": [
       "[array([0.001, 0.002, 0.003, 0.004, 0.005, 0.006, 0.007, 0.008, 0.009,\n",
       "        0.01 , 0.011, 0.012, 0.013, 0.014, 0.015, 0.016, 0.017, 0.018,\n",
       "        0.019, 0.02 , 0.021, 0.022, 0.023, 0.024, 0.025, 0.026, 0.027,\n",
       "        0.028, 0.029, 0.03 , 0.031, 0.032, 0.033, 0.034, 0.035, 0.036,\n",
       "        0.037, 0.038, 0.039, 0.04 , 0.041, 0.042, 0.043, 0.044, 0.045,\n",
       "        0.046, 0.047, 0.048, 0.049, 0.05 , 0.051, 0.052, 0.053, 0.054,\n",
       "        0.055, 0.056, 0.057, 0.058, 0.059, 0.06 , 0.061, 0.062, 0.063,\n",
       "        0.064, 0.065, 0.066, 0.067, 0.068, 0.069, 0.07 , 0.071, 0.072,\n",
       "        0.073, 0.074, 0.075, 0.076, 0.077, 0.078, 0.079, 0.08 , 0.081,\n",
       "        0.082, 0.083, 0.084, 0.085, 0.086, 0.087, 0.088, 0.089, 0.09 ,\n",
       "        0.091, 0.092, 0.093, 0.094, 0.095, 0.096, 0.097, 0.098, 0.099,\n",
       "        0.1  , 0.101, 0.102, 0.103, 0.104, 0.105, 0.106, 0.107, 0.108,\n",
       "        0.109, 0.11 , 0.111, 0.112, 0.113, 0.114, 0.115, 0.116, 0.117,\n",
       "        0.118, 0.119, 0.12 , 0.121, 0.122, 0.123, 0.124, 0.125, 0.126,\n",
       "        0.127, 0.128, 0.129, 0.13 , 0.131, 0.132, 0.133, 0.134, 0.135,\n",
       "        0.136, 0.137, 0.138, 0.139, 0.14 , 0.141, 0.142, 0.143, 0.144,\n",
       "        0.145, 0.146, 0.147, 0.148, 0.149, 0.15 , 0.151, 0.152, 0.153,\n",
       "        0.154, 0.155, 0.156, 0.157, 0.158, 0.159, 0.16 , 0.161, 0.162,\n",
       "        0.163, 0.164, 0.165, 0.166, 0.167, 0.168, 0.169, 0.17 , 0.171,\n",
       "        0.172, 0.173, 0.174, 0.175, 0.176, 0.177, 0.178, 0.179, 0.18 ,\n",
       "        0.181, 0.182, 0.183, 0.184, 0.185, 0.186, 0.187, 0.188, 0.189,\n",
       "        0.19 , 0.191, 0.192, 0.193, 0.194, 0.195, 0.196, 0.197, 0.198,\n",
       "        0.199, 0.2  , 0.201, 0.202, 0.203, 0.204, 0.205, 0.206, 0.207,\n",
       "        0.208, 0.209, 0.21 , 0.211, 0.212, 0.213, 0.214, 0.215, 0.216,\n",
       "        0.217, 0.218, 0.219, 0.22 , 0.221, 0.222, 0.223, 0.224, 0.225,\n",
       "        0.226, 0.227, 0.228, 0.229, 0.23 , 0.231, 0.232, 0.233, 0.234,\n",
       "        0.235, 0.236, 0.237, 0.238, 0.239, 0.24 , 0.241, 0.242, 0.243,\n",
       "        0.244, 0.245, 0.246, 0.247, 0.248, 0.249, 0.25 , 0.251, 0.252,\n",
       "        0.253, 0.254, 0.255, 0.256, 0.257, 0.258, 0.259, 0.26 , 0.261,\n",
       "        0.262, 0.263, 0.264, 0.265, 0.266, 0.267, 0.268, 0.269, 0.27 ,\n",
       "        0.271, 0.272, 0.273, 0.274, 0.275, 0.276, 0.277, 0.278, 0.279,\n",
       "        0.28 , 0.281, 0.282, 0.283, 0.284, 0.285, 0.286, 0.287, 0.288,\n",
       "        0.289, 0.29 , 0.291, 0.292, 0.293, 0.294, 0.295, 0.296, 0.297,\n",
       "        0.298, 0.299, 0.3  , 0.301, 0.302, 0.303, 0.304, 0.305, 0.306,\n",
       "        0.307, 0.308, 0.309, 0.31 , 0.311, 0.312, 0.313, 0.314, 0.315,\n",
       "        0.316, 0.317, 0.318, 0.319, 0.32 , 0.321, 0.322, 0.323, 0.324,\n",
       "        0.325, 0.326, 0.327, 0.328, 0.329, 0.33 , 0.331, 0.332, 0.333,\n",
       "        0.334, 0.335, 0.336, 0.337, 0.338, 0.339, 0.34 , 0.341, 0.342,\n",
       "        0.343, 0.344, 0.345, 0.346, 0.347, 0.348, 0.349, 0.35 , 0.351,\n",
       "        0.352, 0.353, 0.354, 0.355, 0.356, 0.357, 0.358, 0.359, 0.36 ,\n",
       "        0.361, 0.362, 0.363, 0.364, 0.365, 0.366, 0.367, 0.368, 0.369,\n",
       "        0.37 , 0.371, 0.372, 0.373, 0.374, 0.375, 0.376, 0.377, 0.378,\n",
       "        0.379, 0.38 , 0.381, 0.382, 0.383, 0.384, 0.385, 0.386, 0.387,\n",
       "        0.388, 0.389, 0.39 , 0.391, 0.392, 0.393, 0.394, 0.395, 0.396,\n",
       "        0.397, 0.398, 0.399, 0.4  , 0.401, 0.402, 0.403, 0.404, 0.405,\n",
       "        0.406, 0.407, 0.408, 0.409, 0.41 , 0.411, 0.412, 0.413, 0.414,\n",
       "        0.415, 0.416, 0.417, 0.418, 0.419, 0.42 , 0.421, 0.422, 0.423,\n",
       "        0.424, 0.425, 0.426, 0.427, 0.428, 0.429, 0.43 , 0.431, 0.432,\n",
       "        0.433, 0.434, 0.435, 0.436, 0.437, 0.438, 0.439, 0.44 , 0.441,\n",
       "        0.442, 0.443, 0.444, 0.445, 0.446, 0.447, 0.448, 0.449, 0.45 ,\n",
       "        0.451, 0.452, 0.453, 0.454, 0.455, 0.456, 0.457, 0.458, 0.459,\n",
       "        0.46 , 0.461, 0.462, 0.463, 0.464, 0.465, 0.466, 0.467, 0.468,\n",
       "        0.469, 0.47 , 0.471, 0.472, 0.473, 0.474, 0.475, 0.476, 0.477,\n",
       "        0.478, 0.479, 0.48 , 0.481, 0.482, 0.483, 0.484, 0.485, 0.486,\n",
       "        0.487, 0.488, 0.489, 0.49 , 0.491, 0.492, 0.493, 0.494, 0.495,\n",
       "        0.496, 0.497, 0.498, 0.499, 0.5  , 0.501, 0.502, 0.503, 0.504,\n",
       "        0.505, 0.506, 0.507, 0.508, 0.509, 0.51 , 0.511, 0.512, 0.513,\n",
       "        0.514, 0.515, 0.516, 0.517, 0.518, 0.519, 0.52 , 0.521, 0.522,\n",
       "        0.523, 0.524, 0.525, 0.526, 0.527, 0.528, 0.529, 0.53 , 0.531,\n",
       "        0.532, 0.533, 0.534, 0.535, 0.536, 0.537, 0.538, 0.539, 0.54 ,\n",
       "        0.541, 0.542, 0.543, 0.544, 0.545, 0.546, 0.547, 0.548, 0.549,\n",
       "        0.55 , 0.551, 0.552, 0.553, 0.554, 0.555, 0.556, 0.557, 0.558,\n",
       "        0.559, 0.56 , 0.561, 0.562, 0.563, 0.564, 0.565, 0.566, 0.567,\n",
       "        0.568, 0.569, 0.57 , 0.571, 0.572, 0.573, 0.574, 0.575, 0.576,\n",
       "        0.577, 0.578, 0.579, 0.58 , 0.581, 0.582, 0.583, 0.584, 0.585,\n",
       "        0.586, 0.587, 0.588, 0.589, 0.59 , 0.591, 0.592, 0.593, 0.594,\n",
       "        0.595, 0.596, 0.597, 0.598, 0.599, 0.6  , 0.601, 0.602, 0.603,\n",
       "        0.604, 0.605, 0.606, 0.607, 0.608, 0.609, 0.61 , 0.611, 0.612,\n",
       "        0.613, 0.614, 0.615, 0.616, 0.617, 0.618, 0.619, 0.62 , 0.621,\n",
       "        0.622, 0.623, 0.624, 0.625, 0.626, 0.627, 0.628, 0.629, 0.63 ,\n",
       "        0.631, 0.632, 0.633, 0.634, 0.635, 0.636, 0.637, 0.638, 0.639,\n",
       "        0.64 , 0.641, 0.642, 0.643, 0.644, 0.645, 0.646, 0.647, 0.648,\n",
       "        0.649, 0.65 , 0.651, 0.652, 0.653, 0.654, 0.655, 0.656, 0.657,\n",
       "        0.658, 0.659, 0.66 , 0.661, 0.662, 0.663, 0.664, 0.665, 0.666,\n",
       "        0.667, 0.668, 0.669, 0.67 , 0.671, 0.672, 0.673, 0.674, 0.675,\n",
       "        0.676, 0.677, 0.678, 0.679, 0.68 , 0.681, 0.682, 0.683, 0.684,\n",
       "        0.685, 0.686, 0.687, 0.688, 0.689, 0.69 , 0.691, 0.692, 0.693,\n",
       "        0.694, 0.695, 0.696, 0.697, 0.698, 0.699, 0.7  , 0.701, 0.702,\n",
       "        0.703, 0.704, 0.705, 0.706, 0.707, 0.708, 0.709, 0.71 , 0.711,\n",
       "        0.712, 0.713, 0.714, 0.715, 0.716, 0.717, 0.718, 0.719, 0.72 ,\n",
       "        0.721, 0.722, 0.723, 0.724, 0.725, 0.726, 0.727, 0.728, 0.729,\n",
       "        0.73 , 0.731, 0.732, 0.733, 0.734, 0.735, 0.736, 0.737, 0.738,\n",
       "        0.739, 0.74 , 0.741, 0.742, 0.743, 0.744, 0.745, 0.746, 0.747,\n",
       "        0.748, 0.749, 0.75 , 0.751, 0.752, 0.753, 0.754, 0.755, 0.756,\n",
       "        0.757, 0.758, 0.759, 0.76 , 0.761, 0.762, 0.763, 0.764, 0.765,\n",
       "        0.766, 0.767, 0.768, 0.769, 0.77 , 0.771, 0.772, 0.773, 0.774,\n",
       "        0.775, 0.776, 0.777, 0.778, 0.779, 0.78 , 0.781, 0.782, 0.783,\n",
       "        0.784, 0.785, 0.786, 0.787, 0.788, 0.789, 0.79 , 0.791, 0.792,\n",
       "        0.793, 0.794, 0.795, 0.796, 0.797, 0.798, 0.799, 0.8  , 0.801,\n",
       "        0.802, 0.803, 0.804, 0.805, 0.806, 0.807, 0.808, 0.809, 0.81 ,\n",
       "        0.811, 0.812, 0.813, 0.814, 0.815, 0.816, 0.817, 0.818, 0.819,\n",
       "        0.82 , 0.821, 0.822, 0.823, 0.824, 0.825, 0.826, 0.827, 0.828,\n",
       "        0.829, 0.83 , 0.831, 0.832, 0.833, 0.834, 0.835, 0.836, 0.837,\n",
       "        0.838, 0.839, 0.84 , 0.841, 0.842, 0.843, 0.844, 0.845, 0.846,\n",
       "        0.847, 0.848, 0.849, 0.85 , 0.851, 0.852, 0.853, 0.854, 0.855,\n",
       "        0.856, 0.857, 0.858, 0.859, 0.86 , 0.861, 0.862, 0.863, 0.864,\n",
       "        0.865, 0.866, 0.867, 0.868, 0.869, 0.87 , 0.871, 0.872, 0.873,\n",
       "        0.874, 0.875, 0.876, 0.877, 0.878, 0.879, 0.88 , 0.881, 0.882,\n",
       "        0.883, 0.884, 0.885, 0.886, 0.887, 0.888, 0.889, 0.89 , 0.891,\n",
       "        0.892, 0.893, 0.894, 0.895, 0.896, 0.897, 0.898, 0.899, 0.9  ,\n",
       "        0.901, 0.902, 0.903, 0.904, 0.905, 0.906, 0.907, 0.908, 0.909,\n",
       "        0.91 , 0.911, 0.912, 0.913, 0.914, 0.915, 0.916, 0.917, 0.918,\n",
       "        0.919, 0.92 , 0.921, 0.922, 0.923, 0.924, 0.925, 0.926, 0.927,\n",
       "        0.928, 0.929, 0.93 , 0.931, 0.932, 0.933, 0.934, 0.935, 0.936,\n",
       "        0.937, 0.938, 0.939, 0.94 , 0.941, 0.942, 0.943, 0.944, 0.945,\n",
       "        0.946, 0.947, 0.948, 0.949, 0.95 , 0.951, 0.952, 0.953, 0.954,\n",
       "        0.955, 0.956, 0.957, 0.958, 0.959, 0.96 , 0.961, 0.962, 0.963,\n",
       "        0.964, 0.965, 0.966, 0.967, 0.968, 0.969, 0.97 , 0.971, 0.972,\n",
       "        0.973, 0.974, 0.975, 0.976, 0.977, 0.978, 0.979, 0.98 , 0.981,\n",
       "        0.982, 0.983, 0.984, 0.985, 0.986, 0.987, 0.988, 0.989, 0.99 ,\n",
       "        0.991, 0.992, 0.993, 0.994, 0.995, 0.996, 0.997, 0.998, 0.999,\n",
       "        1.   ]),\n",
       " array([1.00099875, 1.0019975 , 1.00299625, 1.003995  , 1.00499375,\n",
       "        1.0059925 , 1.00699125, 1.00799   , 1.00898875, 1.0099875 ,\n",
       "        1.01098625, 1.011985  , 1.01298375, 1.0139825 , 1.01498125,\n",
       "        1.01598   , 1.01697875, 1.0179775 , 1.01897625, 1.01997501,\n",
       "        1.02097376, 1.02197251, 1.02297126, 1.02397001, 1.02496876,\n",
       "        1.02596751, 1.02696626, 1.02796501, 1.02896376, 1.02996251,\n",
       "        1.03096126, 1.03196001, 1.03295876, 1.03395751, 1.03495626,\n",
       "        1.03595501, 1.03695376, 1.03795251, 1.03895126, 1.03995001,\n",
       "        1.04094876, 1.04194751, 1.04294626, 1.04394501, 1.04494376,\n",
       "        1.04594251, 1.04694126, 1.04794001, 1.04893876, 1.04993751,\n",
       "        1.05093626, 1.05193501, 1.05293376, 1.05393251, 1.05493126,\n",
       "        1.05593001, 1.05692876, 1.05792752, 1.05892627, 1.05992502,\n",
       "        1.06092377, 1.06192252, 1.06292127, 1.06392002, 1.06491877,\n",
       "        1.06591752, 1.06691627, 1.06791502, 1.06891377, 1.06991252,\n",
       "        1.07091127, 1.07191002, 1.07290877, 1.07390752, 1.07490627,\n",
       "        1.07590502, 1.07690377, 1.07790252, 1.07890127, 1.07990002,\n",
       "        1.08089877, 1.08189752, 1.08289627, 1.08389502, 1.08489377,\n",
       "        1.08589252, 1.08689127, 1.08789002, 1.08888877, 1.08988752,\n",
       "        1.09088627, 1.09188502, 1.09288377, 1.09388252, 1.09488127,\n",
       "        1.09588002, 1.09687878, 1.09787753, 1.09887628, 1.09987503,\n",
       "        1.10087378, 1.10187253, 1.10287128, 1.10387003, 1.10486878,\n",
       "        1.10586753, 1.10686628, 1.10786503, 1.10886378, 1.10986253,\n",
       "        1.11086128, 1.11186003, 1.11285878, 1.11385753, 1.11485628,\n",
       "        1.11585503, 1.11685378, 1.11785253, 1.11885128, 1.11985003,\n",
       "        1.12084878, 1.12184753, 1.12284628, 1.12384503, 1.12484378,\n",
       "        1.12584253, 1.12684128, 1.12784003, 1.12883878, 1.12983753,\n",
       "        1.13083628, 1.13183503, 1.13283378, 1.13383253, 1.13483129,\n",
       "        1.13583004, 1.13682879, 1.13782754, 1.13882629, 1.13982504,\n",
       "        1.14082379, 1.14182254, 1.14282129, 1.14382004, 1.14481879,\n",
       "        1.14581754, 1.14681629, 1.14781504, 1.14881379, 1.14981254,\n",
       "        1.15081129, 1.15181004, 1.15280879, 1.15380754, 1.15480629,\n",
       "        1.15580504, 1.15680379, 1.15780254, 1.15880129, 1.15980004,\n",
       "        1.16079879, 1.16179754, 1.16279629, 1.16379504, 1.16479379,\n",
       "        1.16579254, 1.16679129, 1.16779004, 1.16878879, 1.16978754,\n",
       "        1.17078629, 1.17178504, 1.1727838 , 1.17378255, 1.1747813 ,\n",
       "        1.17578005, 1.1767788 , 1.17777755, 1.1787763 , 1.17977505,\n",
       "        1.1807738 , 1.18177255, 1.1827713 , 1.18377005, 1.1847688 ,\n",
       "        1.18576755, 1.1867663 , 1.18776505, 1.1887638 , 1.18976255,\n",
       "        1.1907613 , 1.19176005, 1.1927588 , 1.19375755, 1.1947563 ,\n",
       "        1.19575505, 1.1967538 , 1.19775255, 1.1987513 , 1.19975005,\n",
       "        1.2007488 , 1.20174755, 1.2027463 , 1.20374505, 1.2047438 ,\n",
       "        1.20574255, 1.2067413 , 1.20774005, 1.2087388 , 1.20973755,\n",
       "        1.2107363 , 1.21173506, 1.21273381, 1.21373256, 1.21473131,\n",
       "        1.21573006, 1.21672881, 1.21772756, 1.21872631, 1.21972506,\n",
       "        1.22072381, 1.22172256, 1.22272131, 1.22372006, 1.22471881,\n",
       "        1.22571756, 1.22671631, 1.22771506, 1.22871381, 1.22971256,\n",
       "        1.23071131, 1.23171006, 1.23270881, 1.23370756, 1.23470631,\n",
       "        1.23570506, 1.23670381, 1.23770256, 1.23870131, 1.23970006,\n",
       "        1.24069881, 1.24169756, 1.24269631, 1.24369506, 1.24469381,\n",
       "        1.24569256, 1.24669131, 1.24769006, 1.24868881, 1.24968757,\n",
       "        1.25068632, 1.25168507, 1.25268382, 1.25368257, 1.25468132,\n",
       "        1.25568007, 1.25667882, 1.25767757, 1.25867632, 1.25967507,\n",
       "        1.26067382, 1.26167257, 1.26267132, 1.26367007, 1.26466882,\n",
       "        1.26566757, 1.26666632, 1.26766507, 1.26866382, 1.26966257,\n",
       "        1.27066132, 1.27166007, 1.27265882, 1.27365757, 1.27465632,\n",
       "        1.27565507, 1.27665382, 1.27765257, 1.27865132, 1.27965007,\n",
       "        1.28064882, 1.28164757, 1.28264632, 1.28364507, 1.28464382,\n",
       "        1.28564257, 1.28664132, 1.28764007, 1.28863883, 1.28963758,\n",
       "        1.29063633, 1.29163508, 1.29263383, 1.29363258, 1.29463133,\n",
       "        1.29563008, 1.29662883, 1.29762758, 1.29862633, 1.29962508,\n",
       "        1.30062383, 1.30162258, 1.30262133, 1.30362008, 1.30461883,\n",
       "        1.30561758, 1.30661633, 1.30761508, 1.30861383, 1.30961258,\n",
       "        1.31061133, 1.31161008, 1.31260883, 1.31360758, 1.31460633,\n",
       "        1.31560508, 1.31660383, 1.31760258, 1.31860133, 1.31960008,\n",
       "        1.32059883, 1.32159758, 1.32259633, 1.32359508, 1.32459383,\n",
       "        1.32559258, 1.32659134, 1.32759009, 1.32858884, 1.32958759,\n",
       "        1.33058634, 1.33158509, 1.33258384, 1.33358259, 1.33458134,\n",
       "        1.33558009, 1.33657884, 1.33757759, 1.33857634, 1.33957509,\n",
       "        1.34057384, 1.34157259, 1.34257134, 1.34357009, 1.34456884,\n",
       "        1.34556759, 1.34656634, 1.34756509, 1.34856384, 1.34956259,\n",
       "        1.35056134, 1.35156009, 1.35255884, 1.35355759, 1.35455634,\n",
       "        1.35555509, 1.35655384, 1.35755259, 1.35855134, 1.35955009,\n",
       "        1.36054884, 1.36154759, 1.36254634, 1.36354509, 1.36454385,\n",
       "        1.3655426 , 1.36654135, 1.3675401 , 1.36853885, 1.3695376 ,\n",
       "        1.37053635, 1.3715351 , 1.37253385, 1.3735326 , 1.37453135,\n",
       "        1.3755301 , 1.37652885, 1.3775276 , 1.37852635, 1.3795251 ,\n",
       "        1.38052385, 1.3815226 , 1.38252135, 1.3835201 , 1.38451885,\n",
       "        1.3855176 , 1.38651635, 1.3875151 , 1.38851385, 1.3895126 ,\n",
       "        1.39051135, 1.3915101 , 1.39250885, 1.3935076 , 1.39450635,\n",
       "        1.3955051 , 1.39650385, 1.3975026 , 1.39850135, 1.3995001 ,\n",
       "        1.40049885, 1.4014976 , 1.40249635, 1.40349511, 1.40449386,\n",
       "        1.40549261, 1.40649136, 1.40749011, 1.40848886, 1.40948761,\n",
       "        1.41048636, 1.41148511, 1.41248386, 1.41348261, 1.41448136,\n",
       "        1.41548011, 1.41647886, 1.41747761, 1.41847636, 1.41947511,\n",
       "        1.42047386, 1.42147261, 1.42247136, 1.42347011, 1.42446886,\n",
       "        1.42546761, 1.42646636, 1.42746511, 1.42846386, 1.42946261,\n",
       "        1.43046136, 1.43146011, 1.43245886, 1.43345761, 1.43445636,\n",
       "        1.43545511, 1.43645386, 1.43745261, 1.43845136, 1.43945011,\n",
       "        1.44044886, 1.44144762, 1.44244637, 1.44344512, 1.44444387,\n",
       "        1.44544262, 1.44644137, 1.44744012, 1.44843887, 1.44943762,\n",
       "        1.45043637, 1.45143512, 1.45243387, 1.45343262, 1.45443137,\n",
       "        1.45543012, 1.45642887, 1.45742762, 1.45842637, 1.45942512,\n",
       "        1.46042387, 1.46142262, 1.46242137, 1.46342012, 1.46441887,\n",
       "        1.46541762, 1.46641637, 1.46741512, 1.46841387, 1.46941262,\n",
       "        1.47041137, 1.47141012, 1.47240887, 1.47340762, 1.47440637,\n",
       "        1.47540512, 1.47640387, 1.47740262, 1.47840137, 1.47940012,\n",
       "        1.48039888, 1.48139763, 1.48239638, 1.48339513, 1.48439388,\n",
       "        1.48539263, 1.48639138, 1.48739013, 1.48838888, 1.48938763,\n",
       "        1.49038638, 1.49138513, 1.49238388, 1.49338263, 1.49438138,\n",
       "        1.49538013, 1.49637888, 1.49737763, 1.49837638, 1.49937513,\n",
       "        1.50037388, 1.50137263, 1.50237138, 1.50337013, 1.50436888,\n",
       "        1.50536763, 1.50636638, 1.50736513, 1.50836388, 1.50936263,\n",
       "        1.51036138, 1.51136013, 1.51235888, 1.51335763, 1.51435638,\n",
       "        1.51535513, 1.51635388, 1.51735263, 1.51835139, 1.51935014,\n",
       "        1.52034889, 1.52134764, 1.52234639, 1.52334514, 1.52434389,\n",
       "        1.52534264, 1.52634139, 1.52734014, 1.52833889, 1.52933764,\n",
       "        1.53033639, 1.53133514, 1.53233389, 1.53333264, 1.53433139,\n",
       "        1.53533014, 1.53632889, 1.53732764, 1.53832639, 1.53932514,\n",
       "        1.54032389, 1.54132264, 1.54232139, 1.54332014, 1.54431889,\n",
       "        1.54531764, 1.54631639, 1.54731514, 1.54831389, 1.54931264,\n",
       "        1.55031139, 1.55131014, 1.55230889, 1.55330764, 1.55430639,\n",
       "        1.55530514, 1.5563039 , 1.55730265, 1.5583014 , 1.55930015,\n",
       "        1.5602989 , 1.56129765, 1.5622964 , 1.56329515, 1.5642939 ,\n",
       "        1.56529265, 1.5662914 , 1.56729015, 1.5682889 , 1.56928765,\n",
       "        1.5702864 , 1.57128515, 1.5722839 , 1.57328265, 1.5742814 ,\n",
       "        1.57528015, 1.5762789 , 1.57727765, 1.5782764 , 1.57927515,\n",
       "        1.5802739 , 1.58127265, 1.5822714 , 1.58327015, 1.5842689 ,\n",
       "        1.58526765, 1.5862664 , 1.58726515, 1.5882639 , 1.58926265,\n",
       "        1.5902614 , 1.59126015, 1.5922589 , 1.59325765, 1.5942564 ,\n",
       "        1.59525516, 1.59625391, 1.59725266, 1.59825141, 1.59925016,\n",
       "        1.60024891, 1.60124766, 1.60224641, 1.60324516, 1.60424391,\n",
       "        1.60524266, 1.60624141, 1.60724016, 1.60823891, 1.60923766,\n",
       "        1.61023641, 1.61123516, 1.61223391, 1.61323266, 1.61423141,\n",
       "        1.61523016, 1.61622891, 1.61722766, 1.61822641, 1.61922516,\n",
       "        1.62022391, 1.62122266, 1.62222141, 1.62322016, 1.62421891,\n",
       "        1.62521766, 1.62621641, 1.62721516, 1.62821391, 1.62921266,\n",
       "        1.63021141, 1.63121016, 1.63220891, 1.63320767, 1.63420642,\n",
       "        1.63520517, 1.63620392, 1.63720267, 1.63820142, 1.63920017,\n",
       "        1.64019892, 1.64119767, 1.64219642, 1.64319517, 1.64419392,\n",
       "        1.64519267, 1.64619142, 1.64719017, 1.64818892, 1.64918767,\n",
       "        1.65018642, 1.65118517, 1.65218392, 1.65318267, 1.65418142,\n",
       "        1.65518017, 1.65617892, 1.65717767, 1.65817642, 1.65917517,\n",
       "        1.66017392, 1.66117267, 1.66217142, 1.66317017, 1.66416892,\n",
       "        1.66516767, 1.66616642, 1.66716517, 1.66816392, 1.66916267,\n",
       "        1.67016142, 1.67116017, 1.67215893, 1.67315768, 1.67415643,\n",
       "        1.67515518, 1.67615393, 1.67715268, 1.67815143, 1.67915018,\n",
       "        1.68014893, 1.68114768, 1.68214643, 1.68314518, 1.68414393,\n",
       "        1.68514268, 1.68614143, 1.68714018, 1.68813893, 1.68913768,\n",
       "        1.69013643, 1.69113518, 1.69213393, 1.69313268, 1.69413143,\n",
       "        1.69513018, 1.69612893, 1.69712768, 1.69812643, 1.69912518,\n",
       "        1.70012393, 1.70112268, 1.70212143, 1.70312018, 1.70411893,\n",
       "        1.70511768, 1.70611643, 1.70711518, 1.70811393, 1.70911268,\n",
       "        1.71011144, 1.71111019, 1.71210894, 1.71310769, 1.71410644,\n",
       "        1.71510519, 1.71610394, 1.71710269, 1.71810144, 1.71910019,\n",
       "        1.72009894, 1.72109769, 1.72209644, 1.72309519, 1.72409394,\n",
       "        1.72509269, 1.72609144, 1.72709019, 1.72808894, 1.72908769,\n",
       "        1.73008644, 1.73108519, 1.73208394, 1.73308269, 1.73408144,\n",
       "        1.73508019, 1.73607894, 1.73707769, 1.73807644, 1.73907519,\n",
       "        1.74007394, 1.74107269, 1.74207144, 1.74307019, 1.74406894,\n",
       "        1.74506769, 1.74606644, 1.74706519, 1.74806395, 1.7490627 ,\n",
       "        1.75006145, 1.7510602 , 1.75205895, 1.7530577 , 1.75405645,\n",
       "        1.7550552 , 1.75605395, 1.7570527 , 1.75805145, 1.7590502 ,\n",
       "        1.76004895, 1.7610477 , 1.76204645, 1.7630452 , 1.76404395,\n",
       "        1.7650427 , 1.76604145, 1.7670402 , 1.76803895, 1.7690377 ,\n",
       "        1.77003645, 1.7710352 , 1.77203395, 1.7730327 , 1.77403145,\n",
       "        1.7750302 , 1.77602895, 1.7770277 , 1.77802645, 1.7790252 ,\n",
       "        1.78002395, 1.7810227 , 1.78202145, 1.7830202 , 1.78401895,\n",
       "        1.7850177 , 1.78601645, 1.78701521, 1.78801396, 1.78901271,\n",
       "        1.79001146, 1.79101021, 1.79200896, 1.79300771, 1.79400646,\n",
       "        1.79500521, 1.79600396, 1.79700271, 1.79800146, 1.79900021,\n",
       "        1.79999896, 1.80099771, 1.80199646, 1.80299521, 1.80399396,\n",
       "        1.80499271, 1.80599146, 1.80699021, 1.80798896, 1.80898771,\n",
       "        1.80998646, 1.81098521, 1.81198396, 1.81298271, 1.81398146,\n",
       "        1.81498021, 1.81597896, 1.81697771, 1.81797646, 1.81897521,\n",
       "        1.81997396, 1.82097271, 1.82197146, 1.82297021, 1.82396896,\n",
       "        1.82496772, 1.82596647, 1.82696522, 1.82796397, 1.82896272,\n",
       "        1.82996147, 1.83096022, 1.83195897, 1.83295772, 1.83395647,\n",
       "        1.83495522, 1.83595397, 1.83695272, 1.83795147, 1.83895022,\n",
       "        1.83994897, 1.84094772, 1.84194647, 1.84294522, 1.84394397,\n",
       "        1.84494272, 1.84594147, 1.84694022, 1.84793897, 1.84893772,\n",
       "        1.84993647, 1.85093522, 1.85193397, 1.85293272, 1.85393147,\n",
       "        1.85493022, 1.85592897, 1.85692772, 1.85792647, 1.85892522,\n",
       "        1.85992397, 1.86092272, 1.86192147, 1.86292022, 1.86391898,\n",
       "        1.86491773, 1.86591648, 1.86691523, 1.86791398, 1.86891273,\n",
       "        1.86991148, 1.87091023, 1.87190898, 1.87290773, 1.87390648,\n",
       "        1.87490523, 1.87590398, 1.87690273, 1.87790148, 1.87890023,\n",
       "        1.87989898, 1.88089773, 1.88189648, 1.88289523, 1.88389398,\n",
       "        1.88489273, 1.88589148, 1.88689023, 1.88788898, 1.88888773,\n",
       "        1.88988648, 1.89088523, 1.89188398, 1.89288273, 1.89388148,\n",
       "        1.89488023, 1.89587898, 1.89687773, 1.89787648, 1.89887523,\n",
       "        1.89987398, 1.90087273, 1.90187149, 1.90287024, 1.90386899,\n",
       "        1.90486774, 1.90586649, 1.90686524, 1.90786399, 1.90886274,\n",
       "        1.90986149, 1.91086024, 1.91185899, 1.91285774, 1.91385649,\n",
       "        1.91485524, 1.91585399, 1.91685274, 1.91785149, 1.91885024,\n",
       "        1.91984899, 1.92084774, 1.92184649, 1.92284524, 1.92384399,\n",
       "        1.92484274, 1.92584149, 1.92684024, 1.92783899, 1.92883774,\n",
       "        1.92983649, 1.93083524, 1.93183399, 1.93283274, 1.93383149,\n",
       "        1.93483024, 1.93582899, 1.93682774, 1.93782649, 1.93882524,\n",
       "        1.939824  , 1.94082275, 1.9418215 , 1.94282025, 1.943819  ,\n",
       "        1.94481775, 1.9458165 , 1.94681525, 1.947814  , 1.94881275,\n",
       "        1.9498115 , 1.95081025, 1.951809  , 1.95280775, 1.9538065 ,\n",
       "        1.95480525, 1.955804  , 1.95680275, 1.9578015 , 1.95880025,\n",
       "        1.959799  , 1.96079775, 1.9617965 , 1.96279525, 1.963794  ,\n",
       "        1.96479275, 1.9657915 , 1.96679025, 1.967789  , 1.96878775,\n",
       "        1.9697865 , 1.97078525, 1.971784  , 1.97278275, 1.9737815 ,\n",
       "        1.97478025, 1.975779  , 1.97677775, 1.9777765 , 1.97877526,\n",
       "        1.97977401, 1.98077276, 1.98177151, 1.98277026, 1.98376901,\n",
       "        1.98476776, 1.98576651, 1.98676526, 1.98776401, 1.98876276,\n",
       "        1.98976151, 1.99076026, 1.99175901, 1.99275776, 1.99375651,\n",
       "        1.99475526, 1.99575401, 1.99675276, 1.99775151, 1.99875026])]"
      ]
     },
     "execution_count": 55,
     "metadata": {},
     "output_type": "execute_result"
    }
   ],
   "source": [
    "euler(f, x0, xf, n, y0) #n = 1000\n"
   ]
  },
  {
   "cell_type": "code",
   "execution_count": 79,
   "metadata": {},
   "outputs": [
    {
     "data": {
      "image/png": "[encoded data removed]",
      "text/plain": [
       "<Figure size 432x288 with 1 Axes>"
      ]
     },
     "metadata": {
      "needs_background": "light"
     },
     "output_type": "display_data"
    }
   ],
   "source": [
    "euler(f, x0, xf, n, y0) #10000\n"
   ]
  },
  {
   "cell_type": "code",
   "execution_count": 87,
   "metadata": {},
   "outputs": [],
   "source": [
    "dt = 0.1\n",
    "f  = np.cos(0.5*dt)\n",
    "x0 = 0                    #initial condition\n",
    "xf = 1                    #initial condition\n",
    "n  = 1000                 #interval values: 1, 10, 100, 1000, 10000\n",
    "y0 = 1                    #initial value"
   ]
  },
  {
   "cell_type": "code",
   "execution_count": 91,
   "metadata": {},
   "outputs": [],
   "source": [
    "def f(x,y):\n",
    "    return y\n",
    "\n",
    "def Runge_Kutta(f, x0, xf, n, y0):\n",
    "    RKx = np.zeros(n)\n",
    "    RKy = np.zeros(n)\n",
    "\n",
    "    h = (xf - x0) / n\n",
    "    x = x0\n",
    "    y = y0\n",
    "\n",
    "    RKx[0] = x\n",
    "    RKy[0] = y\n",
    "\n",
    "    for i in range(0, n):\n",
    "        k1 = h * f(x, y)\n",
    "        k2 = h * f(x + h / 2, y + k1 / 2)\n",
    "        k3 = h * f(x + h / 2, y + k2 / 2)\n",
    "        k4 = h * f(x + h, y + k3)\n",
    "\n",
    "        x = x0 + (i + 1) * h\n",
    "        y += (k1 + 2 * k2 + 2 * k3 + k4) / 6\n",
    "\n",
    "        RKx[i] = x\n",
    "        RKy[i] = y\n",
    "\n",
    "    #return [RKx, RKy]\n",
    "    plt.plot(RKx,RKy)\n",
    "    "
   ]
  },
  {
   "cell_type": "code",
   "execution_count": 92,
   "metadata": {},
   "outputs": [
    {
     "data": {
      "image/png": "[encoded data removed]",
      "text/plain": [
       "<Figure size 432x288 with 1 Axes>"
      ]
     },
     "metadata": {
      "needs_background": "light"
     },
     "output_type": "display_data"
    }
   ],
   "source": [
    "Runge_Kutta(f, x0, xf, n, y0)\n",
    "plt.show()"
   ]
  },
  {
   "cell_type": "code",
   "execution_count": 95,
   "metadata": {},
   "outputs": [
    {
     "data": {
      "image/png": "[encoded data removed]",
      "text/plain": [
       "<Figure size 432x288 with 1 Axes>"
      ]
     },
     "metadata": {
      "needs_background": "light"
     },
     "output_type": "display_data"
    }
   ],
   "source": [
    "\"Errors\"\n",
    "import matplotlib.patches as mpatches\n",
    "h  = [0.0001, 0.001, 0.01, 0.1, 1.]\n",
    "h  = np.array(h)\n",
    "nu = 10E-15    #double precision\n",
    "n  = 4\n",
    "#err_eul = h + nu/n #Euler errors\n",
    "err_eul = [0.0001, 0.001, 0.01, 0.1, 1.]\n",
    "#err_rk4 = h**n + nu/h\n",
    "err_rk4 = [1E-11,2E-12,1E-8,0.0001,1]\n",
    "plt.plot(np.log10(1/h),np.log10(err_eul), color = 'blue')\n",
    "plt.plot(np.log10(1/h),np.log10(err_rk4), color = 'green')\n",
    "plt.xlabel('1/h')\n",
    "plt.ylabel('error')\n",
    "blue_patch = mpatches.Patch(color='blue', label='Euler')\n",
    "green_patch = mpatches.Patch(color='green', label='RK4')\n",
    "plt.legend(handles=[blue_patch,green_patch])\n",
    "\n",
    "plt.show()"
   ]
  },
  {
   "cell_type": "code",
   "execution_count": null,
   "metadata": {},
   "outputs": [],
   "source": []
  }
 ],
 "metadata": {
  "kernelspec": {
   "display_name": "Python 3",
   "language": "python",
   "name": "python3"
  },
  "language_info": {
   "codemirror_mode": {
    "name": "ipython",
    "version": 3
   },
   "file_extension": ".py",
   "mimetype": "text/x-python",
   "name": "python",
   "nbconvert_exporter": "python",
   "pygments_lexer": "ipython3",
   "version": "3.6.7"
  }
 },
 "nbformat": 4,
 "nbformat_minor": 2
}
